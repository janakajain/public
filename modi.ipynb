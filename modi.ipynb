{
 "cells": [
  {
   "cell_type": "markdown",
   "metadata": {},
   "source": [
    "# Text Analysis for Modi Sarkar"
   ]
  },
  {
   "cell_type": "code",
   "execution_count": 45,
   "metadata": {
    "collapsed": true
   },
   "outputs": [],
   "source": [
    "import matplotlib.pyplot as plt\n",
    "import spacy as sp\n",
    "import pandas as pd\n",
    "import indicoio\n",
    "import operator"
   ]
  },
  {
   "cell_type": "code",
   "execution_count": 15,
   "metadata": {
    "collapsed": false
   },
   "outputs": [],
   "source": [
    "text = \"What about you guys, where do you think the western international Sneaker culture is today?\"\n",
    "r1 = u\"R: It's their culture basketball is what they play, hip hop is what they listen to that’s where the culture got built and then it progressed a lot of people began adapting or taking up to it, same with the skate culture, skate boarding and all of that, that’s where your vans and your DC and all of that goes, in India we are just appropriating it,  adopting it which is why it's more recent and it's more recent because until recent past we didn’t have as much exposure to it. We have only seen in the publication in the magazine or hear from the relative who has come down from Canada or whatever, so now because there is so much of exposure I mean look at your… in terms of music scene itself there are so many artists excellent artists that are coming up, I am talking more of the Indi scene, there are people established people like Nuclear who has already… in Massi you have San Hunes and you have Tarkeeb whoever everybody is making music, everything is now bursting as it seems because it's exposure that’s making people adopt pickup things and run with it. Same with blogging as well. Look at the 18 to 24 months in the blogging industry in India until then you had your… it was chosen for you, right now my grocer’s daughter and my next door neighbor everybody is a blogger now, it's just something appropriate. really a few people who are actually interested in the product and they seek rightly about it, like that’s the whole thing I do follow a couple of people who actually give you knowledge of where to get what from, this and that and they will tell you what his phrase of it, which is fine.\"\n",
    "#r = r1.encode('utf-8')"
   ]
  },
  {
   "cell_type": "code",
   "execution_count": null,
   "metadata": {
    "collapsed": false
   },
   "outputs": [],
   "source": []
  },
  {
   "cell_type": "code",
   "execution_count": 3,
   "metadata": {
    "collapsed": true
   },
   "outputs": [],
   "source": [
    "nlp = sp.load('en')"
   ]
  },
  {
   "cell_type": "code",
   "execution_count": 16,
   "metadata": {
    "collapsed": false
   },
   "outputs": [],
   "source": [
    "doc = nlp(unicode(r1))"
   ]
  },
  {
   "cell_type": "code",
   "execution_count": 27,
   "metadata": {
    "collapsed": false
   },
   "outputs": [
    {
     "name": "stdout",
     "output_type": "stream",
     "text": [
      "(u'ORG', u'DC')\n",
      "(u'GPE', u'India')\n",
      "(u'GPE', u'Canada')\n",
      "(u'NORP', u'Indi')\n",
      "(u'GPE', u'Massi')\n",
      "(u'GPE', u'San Hunes')\n",
      "(u'PERSON', u'Tarkeeb')\n",
      "(u'GPE', u'India')\n"
     ]
    }
   ],
   "source": [
    "for ent in doc.ents:\n",
    "    print(ent.label_, ent.text)"
   ]
  },
  {
   "cell_type": "code",
   "execution_count": 36,
   "metadata": {
    "collapsed": false
   },
   "outputs": [],
   "source": [
    "indicoio.config.api_key = '835d9b92393f0d2e94b190076db6dea9'"
   ]
  },
  {
   "cell_type": "code",
   "execution_count": 38,
   "metadata": {
    "collapsed": false
   },
   "outputs": [],
   "source": [
    "sents = []\n",
    "\n",
    "sents = indicoio.sentiment(r1)"
   ]
  },
  {
   "cell_type": "code",
   "execution_count": 39,
   "metadata": {
    "collapsed": false
   },
   "outputs": [
    {
     "data": {
      "text/plain": [
       "0.6790750848"
      ]
     },
     "execution_count": 39,
     "metadata": {},
     "output_type": "execute_result"
    }
   ],
   "source": [
    "sents"
   ]
  },
  {
   "cell_type": "markdown",
   "metadata": {},
   "source": [
    "### The text is around 68% positive"
   ]
  },
  {
   "cell_type": "code",
   "execution_count": 40,
   "metadata": {
    "collapsed": true
   },
   "outputs": [],
   "source": [
    "pol = []\n",
    "\n",
    "pol = indicoio.political(r1)"
   ]
  },
  {
   "cell_type": "code",
   "execution_count": 41,
   "metadata": {
    "collapsed": false
   },
   "outputs": [
    {
     "data": {
      "text/plain": [
       "{u'Conservative': 0.1625009179,\n",
       " u'Green': 0.3071698248,\n",
       " u'Liberal': 0.2534247935,\n",
       " u'Libertarian': 0.27690443400000003}"
      ]
     },
     "execution_count": 41,
     "metadata": {},
     "output_type": "execute_result"
    }
   ],
   "source": [
    "pol"
   ]
  },
  {
   "cell_type": "markdown",
   "metadata": {},
   "source": [
    "#### The text is 16% Conservative, 30% Green, 25% Liberal and 27% Libertarian"
   ]
  },
  {
   "cell_type": "code",
   "execution_count": 42,
   "metadata": {
    "collapsed": false
   },
   "outputs": [
    {
     "name": "stdout",
     "output_type": "stream",
     "text": [
      "{u'openness': 0.6908480414, u'extraversion': 0.5731988905000001, u'agreeableness': 0.4394507816, u'conscientiousness': 0.3734809314}\n"
     ]
    }
   ],
   "source": [
    "personality = []\n",
    "\n",
    "personality = indicoio.personality(r1)\n",
    "\n",
    "print personality"
   ]
  },
  {
   "cell_type": "markdown",
   "metadata": {},
   "source": [
    "#### Personality Analysis:  \n",
    "  \n",
    "##### Openness: 70%  \n",
    "##### Extraversion: 57%\n",
    "##### Agreeableness: 43%\n",
    "##### Conscientiousness: 37%"
   ]
  },
  {
   "cell_type": "code",
   "execution_count": 46,
   "metadata": {
    "collapsed": false
   },
   "outputs": [
    {
     "name": "stdout",
     "output_type": "stream",
     "text": [
      "{u'advocate': 0.0423988687, u'debater': 0.1600304531, u'mediator': 0.0862650447, u'consul': 0.0223851964, u'executive': 0.030912214900000002, u'adventurer': 0.033903374300000004, u'logistician': 0.023010791500000002, u'commander': 0.0786542243, u'entrepreneur': 0.06289421590000001, u'logician': 0.1191253166, u'protagonist': 0.0569577515, u'architect': 0.0585495397, u'campaigner': 0.11588665270000001, u'entertainer': 0.045545082300000005, u'defender': 0.016663350900000002, u'virtuoso': 0.0468179226}\n"
     ]
    }
   ],
   "source": [
    "personas = []\n",
    "\n",
    "personas = indicoio.personas(r1)"
   ]
  },
  {
   "cell_type": "code",
   "execution_count": 48,
   "metadata": {
    "collapsed": false
   },
   "outputs": [
    {
     "data": {
      "text/plain": [
       "[(u'defender', 0.016663350900000002),\n",
       " (u'consul', 0.0223851964),\n",
       " (u'logistician', 0.023010791500000002),\n",
       " (u'executive', 0.030912214900000002),\n",
       " (u'adventurer', 0.033903374300000004),\n",
       " (u'advocate', 0.0423988687),\n",
       " (u'entertainer', 0.045545082300000005),\n",
       " (u'virtuoso', 0.0468179226),\n",
       " (u'protagonist', 0.0569577515),\n",
       " (u'architect', 0.0585495397),\n",
       " (u'entrepreneur', 0.06289421590000001),\n",
       " (u'commander', 0.0786542243),\n",
       " (u'mediator', 0.0862650447),\n",
       " (u'campaigner', 0.11588665270000001),\n",
       " (u'logician', 0.1191253166),\n",
       " (u'debater', 0.1600304531)]"
      ]
     },
     "execution_count": 48,
     "metadata": {},
     "output_type": "execute_result"
    }
   ],
   "source": [
    "x = sorted(personas.items(), key=operator.itemgetter(1))\n",
    "\n",
    "x"
   ]
  },
  {
   "cell_type": "markdown",
   "metadata": {},
   "source": [
    "### Personas Analysis  \n",
    "  \n",
    "\n",
    "##### Debator: 16%  \n",
    "##### Logician: 12%  \n",
    "##### Campaigner: 12%  \n",
    ".\n",
    ".\n",
    ".\n",
    "##### Mediator: 8%  \n",
    "##### Advocate: 4%  \n",
    "##### Executive: 3%  \n",
    "##### Consul: 2%  "
   ]
  },
  {
   "cell_type": "code",
   "execution_count": 50,
   "metadata": {
    "collapsed": false
   },
   "outputs": [],
   "source": [
    "emo = []\n",
    "\n",
    "emo = indicoio.emotion(r1)"
   ]
  },
  {
   "cell_type": "code",
   "execution_count": 51,
   "metadata": {
    "collapsed": false
   },
   "outputs": [
    {
     "data": {
      "text/plain": [
       "{u'anger': 0.5754418373,\n",
       " u'fear': 0.0596921444,\n",
       " u'joy': 0.0770539343,\n",
       " u'sadness': 0.2610864341,\n",
       " u'surprise': 0.0267255846}"
      ]
     },
     "execution_count": 51,
     "metadata": {},
     "output_type": "execute_result"
    }
   ],
   "source": [
    "emo"
   ]
  },
  {
   "cell_type": "markdown",
   "metadata": {},
   "source": [
    "### Emotion Analysis"
   ]
  },
  {
   "cell_type": "markdown",
   "metadata": {},
   "source": [
    "#### Anger: 57%\n",
    "#### Fear: 5%\n",
    "#### Joy: 8%\n",
    "#### Sadness: 26%\n",
    "#### Surprise: 3%"
   ]
  },
  {
   "cell_type": "code",
   "execution_count": null,
   "metadata": {
    "collapsed": true
   },
   "outputs": [],
   "source": []
  }
 ],
 "metadata": {
  "anaconda-cloud": {},
  "kernelspec": {
   "display_name": "Python [conda root]",
   "language": "python",
   "name": "conda-root-py"
  },
  "language_info": {
   "codemirror_mode": {
    "name": "ipython",
    "version": 2
   },
   "file_extension": ".py",
   "mimetype": "text/x-python",
   "name": "python",
   "nbconvert_exporter": "python",
   "pygments_lexer": "ipython2",
   "version": "2.7.12"
  }
 },
 "nbformat": 4,
 "nbformat_minor": 1
}
